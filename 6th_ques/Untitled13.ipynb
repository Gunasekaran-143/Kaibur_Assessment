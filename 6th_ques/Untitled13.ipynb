{
 "cells": [
  {
   "cell_type": "code",
   "execution_count": 1,
   "id": "40f8f806",
   "metadata": {},
   "outputs": [],
   "source": [
    "# Import necessary libraries\n",
    "import pandas as pd\n",
    "import numpy as np\n",
    "from sklearn.model_selection import train_test_split\n",
    "from sklearn.feature_extraction.text import TfidfVectorizer\n",
    "from sklearn.naive_bayes import MultinomialNB\n",
    "from sklearn.metrics import classification_report, accuracy_score, confusion_matrix\n",
    "\n",
    "\n",
    "df = pd.read_csv(r'C:\\Users\\KEERTHANA\\Desktop\\Downloads\\complaints.csv\\complaints.csv')\n"
   ]
  },
  {
   "cell_type": "code",
   "execution_count": null,
   "id": "8fc054ea",
   "metadata": {},
   "outputs": [],
   "source": [
    "\n",
    "# Step 1: Explanatory Data Analysis and Feature Engineering\n",
    "\n",
    "# Drop rows with missing complaint narratives\n",
    "df = df.dropna(subset=['Consumer complaint narrative'])\n",
    "\n",
    "# Step 2: Text Pre-Processing\n",
    "\n",
    "# Convert text to lowercase\n",
    "df['Consumer complaint narrative'] = df['Consumer complaint narrative'].str.lower()\n",
    "\n",
    "# Step 3: Selection of Multi-Classification Model\n",
    "\n",
    "# Split the data into training and testing sets\n",
    "X_train, X_test, y_train, y_test = train_test_split(\n",
    "    df['Consumer complaint narrative'],\n",
    "    df['Product'],\n",
    "    test_size=0.2,\n",
    "    random_state=42\n",
    ")\n",
    "\n",
    "# TF-IDF Vectorization\n",
    "tfidf_vectorizer = TfidfVectorizer(max_features=5000)  # You can adjust max_features as needed\n",
    "X_train_tfidf = tfidf_vectorizer.fit_transform(X_train)\n",
    "X_test_tfidf = tfidf_vectorizer.transform(X_test)\n",
    "\n",
    "# Multinomial Naive Bayes Classifier\n",
    "model = MultinomialNB()\n",
    "model.fit(X_train_tfidf, y_train)\n",
    "\n",
    "# Step 4: Comparison of Model Performance\n",
    "\n",
    "# Predictions\n",
    "y_pred = model.predict(X_test_tfidf)\n",
    "\n",
    "# Step 5: Model Evaluation\n",
    "\n",
    "# Evaluate the model\n",
    "print(\"Accuracy:\", accuracy_score(y_test, y_pred))\n",
    "print(\"\\nClassification Report:\\n\", classification_report(y_test, y_pred))\n",
    "print(\"\\nConfusion Matrix:\\n\", confusion_matrix(y_test, y_pred))\n",
    "\n",
    "# Step 6: Prediction\n",
    "\n",
    "# Example prediction on new data\n",
    "new_complaint = [\"I have an issue with my credit report.\"]\n",
    "new_complaint_tfidf = tfidf_vectorizer.transform(new_complaint)\n",
    "predicted_category = model.predict(new_complaint_tfidf)\n",
    "print(\"\\nPredicted Category for the New Complaint:\", predicted_category[0])\n"
   ]
  },
  {
   "cell_type": "code",
   "execution_count": null,
   "id": "09c287c5",
   "metadata": {},
   "outputs": [],
   "source": []
  }
 ],
 "metadata": {
  "kernelspec": {
   "display_name": "Python 3 (ipykernel)",
   "language": "python",
   "name": "python3"
  },
  "language_info": {
   "codemirror_mode": {
    "name": "ipython",
    "version": 3
   },
   "file_extension": ".py",
   "mimetype": "text/x-python",
   "name": "python",
   "nbconvert_exporter": "python",
   "pygments_lexer": "ipython3",
   "version": "3.10.6"
  }
 },
 "nbformat": 4,
 "nbformat_minor": 5
}
